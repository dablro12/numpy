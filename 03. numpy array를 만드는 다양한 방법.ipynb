{
 "cells": [
  {
   "cell_type": "code",
   "execution_count": 13,
   "id": "f61797ed",
   "metadata": {},
   "outputs": [],
   "source": [
    "import numpy"
   ]
  },
  {
   "cell_type": "code",
   "execution_count": 3,
   "id": "4920052e",
   "metadata": {},
   "outputs": [
    {
     "name": "stdout",
     "output_type": "stream",
     "text": [
      "[ 2  3  5  6 11 13 17 18 23 29 31]\n"
     ]
    }
   ],
   "source": [
    "array1 = numpy.array([2,3,5,6,11,13,17,18,23,29,31])\n",
    "print(array1) #->[2,3,5,6,11,13,17,18,23,29,31]"
   ]
  },
  {
   "cell_type": "code",
   "execution_count": 4,
   "id": "108d76e6",
   "metadata": {},
   "outputs": [
    {
     "name": "stdout",
     "output_type": "stream",
     "text": [
      "[7 7 7 7 7 7]\n"
     ]
    }
   ],
   "source": [
    "#균일한 값으로 생성 numpy.full(n, number) number의 수를 n번 반복해서 리스트로 만들어줌\n",
    "array2 = numpy.full(6, 7) \n",
    "print(array2) #-> [7 7 7 7 7 7 7]"
   ]
  },
  {
   "cell_type": "code",
   "execution_count": 10,
   "id": "494975f5",
   "metadata": {},
   "outputs": [
    {
     "name": "stdout",
     "output_type": "stream",
     "text": [
      "[0 0 0 0 0 0]\n",
      "[0 0 0 0 0 0]\n"
     ]
    }
   ],
   "source": [
    "array3 = numpy.full(6, 0)\n",
    "array4 = numpy.zeros(6, dtype=int) #numpy.zeros(number, dtype=변수형)\n",
    "\n",
    "print(array3)\n",
    "print(array4)"
   ]
  },
  {
   "cell_type": "code",
   "execution_count": 12,
   "id": "a0671249",
   "metadata": {},
   "outputs": [
    {
     "name": "stdout",
     "output_type": "stream",
     "text": [
      "[1 1 1 1 1 1]\n",
      "[1 1 1 1 1 1]\n"
     ]
    }
   ],
   "source": [
    "array5 = numpy.full(6, 1)\n",
    "array6 = numpy.ones(6, dtype=int) #numpy.ones(n, dtype =변수형)\n",
    "print(array5)\n",
    "print(array6)\n"
   ]
  },
  {
   "cell_type": "code",
   "execution_count": 14,
   "id": "140b67fb",
   "metadata": {},
   "outputs": [
    {
     "name": "stdout",
     "output_type": "stream",
     "text": [
      "[0.282074   0.68584324 0.26212714 0.46282163 0.14789287 0.89925643]\n",
      "[0.75080915 0.4464631  0.80897227 0.76095333 0.03465991 0.89162435]\n"
     ]
    }
   ],
   "source": [
    "array7 = numpy.random.random(6) #numpy 내의 random 모듈이 존재함\n",
    "array8 = numpy.random.random(6) #0부터 1사이의 값 6개 랜덤으로 출력\n",
    "\n",
    "print(array7)\n",
    "print(array8)"
   ]
  },
  {
   "cell_type": "code",
   "execution_count": 15,
   "id": "832ec1d7",
   "metadata": {},
   "outputs": [
    {
     "name": "stdout",
     "output_type": "stream",
     "text": [
      "[0 1 2 3 4 5]\n"
     ]
    }
   ],
   "source": [
    "#연속된 값들이 담긴 numpy array 생성 \n",
    "array9 = numpy.arange(6)\n",
    "print(array9) #-> [0 1 2 3 4 5]"
   ]
  },
  {
   "cell_type": "code",
   "execution_count": 17,
   "id": "64141be6",
   "metadata": {},
   "outputs": [
    {
     "name": "stdout",
     "output_type": "stream",
     "text": [
      "[2 3 4 5 6]\n"
     ]
    }
   ],
   "source": [
    "array10 = numpy.arange(2, 7) # 2~6까지의 정수를 리스트로 출력\n",
    "print(array10) #-> [2 3 4 5 6]"
   ]
  },
  {
   "cell_type": "code",
   "execution_count": 18,
   "id": "0582355b",
   "metadata": {},
   "outputs": [
    {
     "name": "stdout",
     "output_type": "stream",
     "text": [
      "[ 3  6  9 12 15]\n"
     ]
    }
   ],
   "source": [
    "array11 = numpy.arange(3, 17 , 3) # 3~16까지의 정수 중 3간격으로 된 수를 출력\n",
    "print(array11) #-> [3 6 9 12 15]"
   ]
  },
  {
   "cell_type": "code",
   "execution_count": null,
   "id": "39bf5fc2",
   "metadata": {},
   "outputs": [],
   "source": []
  }
 ],
 "metadata": {
  "kernelspec": {
   "display_name": "Python 3 (ipykernel)",
   "language": "python",
   "name": "python3"
  },
  "language_info": {
   "codemirror_mode": {
    "name": "ipython",
    "version": 3
   },
   "file_extension": ".py",
   "mimetype": "text/x-python",
   "name": "python",
   "nbconvert_exporter": "python",
   "pygments_lexer": "ipython3",
   "version": "3.9.13"
  }
 },
 "nbformat": 4,
 "nbformat_minor": 5
}
