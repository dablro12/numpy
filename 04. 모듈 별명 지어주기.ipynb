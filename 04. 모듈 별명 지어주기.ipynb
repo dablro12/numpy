{
 "cells": [
  {
   "cell_type": "code",
   "execution_count": 1,
   "id": "26826326",
   "metadata": {},
   "outputs": [],
   "source": [
    "import numpy as np #np라고 별명 지어줌 alias\n",
    "\n",
    "array1 = np.full(6,0)\n",
    "array2 = np.zeros(6)\n",
    "array3 = np.full(6,6) \n",
    "array4 = np.ones(9) # 1을 9번 반복해서 리스트로 출력\n",
    "array5 = np.random.random(6) #0~1사이의 값 중 6개를 랜덤 출력\n",
    "array6 = np.random.random(10) #0~1사이의 값 중 10개를 랜덤 출력"
   ]
  },
  {
   "cell_type": "code",
   "execution_count": 2,
   "id": "e9e633c8",
   "metadata": {},
   "outputs": [],
   "source": [
    "import matplotlib.pyplot as plt "
   ]
  },
  {
   "cell_type": "code",
   "execution_count": null,
   "id": "05c03344",
   "metadata": {},
   "outputs": [],
   "source": []
  }
 ],
 "metadata": {
  "kernelspec": {
   "display_name": "Python 3 (ipykernel)",
   "language": "python",
   "name": "python3"
  },
  "language_info": {
   "codemirror_mode": {
    "name": "ipython",
    "version": 3
   },
   "file_extension": ".py",
   "mimetype": "text/x-python",
   "name": "python",
   "nbconvert_exporter": "python",
   "pygments_lexer": "ipython3",
   "version": "3.9.13"
  }
 },
 "nbformat": 4,
 "nbformat_minor": 5
}
