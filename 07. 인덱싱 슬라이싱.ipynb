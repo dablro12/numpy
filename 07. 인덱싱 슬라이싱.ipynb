{
 "cells": [
  {
   "cell_type": "code",
   "execution_count": 1,
   "id": "ef8518f3",
   "metadata": {},
   "outputs": [],
   "source": [
    "import numpy as np"
   ]
  },
  {
   "cell_type": "code",
   "execution_count": 2,
   "id": "25b0cc35",
   "metadata": {},
   "outputs": [],
   "source": [
    "array1 = np.array([2, 3, 5, 7, 11, 13, 17 ,19 ,23 , 29, 31])"
   ]
  },
  {
   "cell_type": "code",
   "execution_count": 3,
   "id": "1033dc3e",
   "metadata": {},
   "outputs": [
    {
     "data": {
      "text/plain": [
       "2"
      ]
     },
     "execution_count": 3,
     "metadata": {},
     "output_type": "execute_result"
    }
   ],
   "source": [
    "array1[0]"
   ]
  },
  {
   "cell_type": "code",
   "execution_count": 4,
   "id": "0559963d",
   "metadata": {},
   "outputs": [
    {
     "data": {
      "text/plain": [
       "5"
      ]
     },
     "execution_count": 4,
     "metadata": {},
     "output_type": "execute_result"
    }
   ],
   "source": [
    "array1[2]"
   ]
  },
  {
   "cell_type": "code",
   "execution_count": 5,
   "id": "75ba5f6b",
   "metadata": {},
   "outputs": [
    {
     "data": {
      "text/plain": [
       "31"
      ]
     },
     "execution_count": 5,
     "metadata": {},
     "output_type": "execute_result"
    }
   ],
   "source": [
    "array1[-1]"
   ]
  },
  {
   "cell_type": "code",
   "execution_count": 6,
   "id": "23842fa1",
   "metadata": {},
   "outputs": [],
   "source": [
    "#리스트 인덱스 슬라이싱 처리 가능"
   ]
  },
  {
   "cell_type": "code",
   "execution_count": 8,
   "id": "64ab0203",
   "metadata": {},
   "outputs": [
    {
     "data": {
      "text/plain": [
       "array([ 3,  7, 11])"
      ]
     },
     "execution_count": 8,
     "metadata": {},
     "output_type": "execute_result"
    }
   ],
   "source": [
    "array1[[1, 3, 4]] #변수[[index1, index2 , ~~~]] "
   ]
  },
  {
   "cell_type": "code",
   "execution_count": 11,
   "id": "b3ef6450",
   "metadata": {},
   "outputs": [
    {
     "data": {
      "text/plain": [
       "array([2, 1, 3])"
      ]
     },
     "execution_count": 11,
     "metadata": {},
     "output_type": "execute_result"
    }
   ],
   "source": [
    "array2 = np.array([2, 1, 3]) \n",
    "array2"
   ]
  },
  {
   "cell_type": "code",
   "execution_count": 12,
   "id": "8d57b30c",
   "metadata": {},
   "outputs": [
    {
     "data": {
      "text/plain": [
       "array([5, 3, 7])"
      ]
     },
     "execution_count": 12,
     "metadata": {},
     "output_type": "execute_result"
    }
   ],
   "source": [
    "array1[array2] # = array1[[2, 1, 3]] 이랑 같다"
   ]
  },
  {
   "cell_type": "code",
   "execution_count": 13,
   "id": "b0b12e8b",
   "metadata": {},
   "outputs": [
    {
     "data": {
      "text/plain": [
       "array([ 5, 11, 17, 23, 31])"
      ]
     },
     "execution_count": 13,
     "metadata": {},
     "output_type": "execute_result"
    }
   ],
   "source": [
    "array1[2:7] # index 2부터 6까지 출력\n",
    "array1[:7] # index 0부터 6까지 출력\n",
    "array1[2:] # index 2부터 끝까지 출력\n",
    "array1[2:11:2] #index 2부터 2의 배수 수만 출력 2,4,6,8,10 index만"
   ]
  },
  {
   "cell_type": "code",
   "execution_count": null,
   "id": "3445862e",
   "metadata": {},
   "outputs": [],
   "source": []
  },
  {
   "cell_type": "raw",
   "id": "8f8feb4e",
   "metadata": {},
   "source": []
  },
  {
   "cell_type": "code",
   "execution_count": null,
   "id": "d6e54266",
   "metadata": {},
   "outputs": [],
   "source": []
  }
 ],
 "metadata": {
  "kernelspec": {
   "display_name": "Python 3 (ipykernel)",
   "language": "python",
   "name": "python3"
  },
  "language_info": {
   "codemirror_mode": {
    "name": "ipython",
    "version": 3
   },
   "file_extension": ".py",
   "mimetype": "text/x-python",
   "name": "python",
   "nbconvert_exporter": "python",
   "pygments_lexer": "ipython3",
   "version": "3.9.13"
  }
 },
 "nbformat": 4,
 "nbformat_minor": 5
}
